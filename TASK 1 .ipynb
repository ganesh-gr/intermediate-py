import nltk
from nltk.chat.util import Chat, reflections

# Reflections are predefined replacements for pronouns and verb tenses
reflections = {
    "i am": "you are",
    "i was": "you were",
    "i": "you",
    "i'm": "you are",
    "i'd": "you would",
    "i've": "you have",
    "i'll": "you will",
    "my": "your",
    "you are": "I am",
    "you were": "I was",
    "you've": "I have",
    "you'll": "I will",
    "your": "my",
    "yours": "mine",
    "you": "me",
    "me": "you"
}

# Define pairs of patterns and responses
pairs = [
    # Greeting patterns
    [
        r"my name is (.*)",  # Regex to capture user input like "my name is John"
        ["Hello %1, How are you today ?"]  # %1 is replaced with the captured name
    ],
    [
        r"hi|hey|hello",  # Patterns for common greetings
        ["Hello", "Hey there"]
    ], 
    [
        r"what is your name ?",  # Asking the bot's name
        ["I am a bot created by Analytics Vidhya. you can call me crazy!"]
    ],
    [
        r"how are you ?",  # Asking how the bot is doing
        ["I'm doing good\nHow about You ?"]
    ],

    # Apology and response
    [
        r"sorry (.*)",  # If the user says "sorry"
        ["Its alright", "Its OK, never mind"]
    ],

    # Positive responses
    [
        r"I am fine",  # User says they are fine
        ["Great to hear that, How can I help you?"]
    ],
    [
        r"i'm (.*) doing good",  # User indicates they are doing good
        ["Nice to hear that", "How can I help you?:)"]
    ],

    # Age-related question
    [
        r"(.*) age?",  # Asking the bot's age
        ["I'm a computer program dude\nSeriously you are asking me this?"]
    ],

    # Wants and offers
    [
        r"what (.*) want ?",  # Asking what the bot wants
        ["Make me an offer I can't refuse"]
    ],

    # Bot creation and location
    [
        r"(.*) created ?",  # Asking who created the bot
        ["Raghav created me using Python's NLTK library", "top secret ;)"]
    ],
    [
        r"(.*) (location|city) ?",  # Asking for the bot's location
        ["Indore, Madhya Pradesh"]
    ],

    # Weather-related questions
    [
        r"how is weather in (.*)?",  # Asking about weather in a specific place
        ["Weather in %1 is awesome like always", "Too hot man here in %1", 
         "Too cold man here in %1", "Never even heard about %1"]
    ],

    # Work-related questions
    [
        r"i work in (.*)?",  # User mentions where they work
        ["%1 is an Amazing company, I have heard about it. But they are in huge loss these days."]
    ],

    # Rain-related questions
    [
        r"(.*)raining in (.*)",  # Asking if it's raining in a specific location
        ["No rain since last week here in %2", "Damn it's raining too much here in %2"]
    ],

    # Health-related questions
    [
        r"how (.*) health(.*)",  # Asking about the bot's health
        ["I'm a computer program, so I'm always healthy "]
    ],

    # Sports-related questions
    [
        r"(.*) (sports|game) ?",  # Asking about sports
        ["I'm a very big fan of Football"]
    ],
    [
        r"who (.*) sportsperson ?",  # Asking about a favorite sportsperson
        ["Messy", "Ronaldo", "Roony"]
    ],

    # Movie star-related questions
    [
        r"who (.*) (moviestar|actor)?",  # Asking about a favorite movie star
        ["Brad Pitt"]
    ],

    # Data science resources
    [
        r"i am looking for online guides and courses to learn data science, can you suggest?",
        ["Crazy_Tech has many great articles with each step explanation along with code, you can explore"]
    ],

    # Quit conversation
    [
        r"quit",  # User wants to quit the chat
        ["BBye take care. See you soon :)", "It was nice talking to you. See you soon :)"]
    ],
]

# Function to start the chatbot
def chat():
    print("Hi! I am a chatbot created by Shaik Mohammed Saif Ali for your service")
    # Initialize the Chat object with pairs and reflections
    chat = Chat(pairs, reflections)
    # Start conversation loop
    chat.converse()

# Run the chat function if this script is the main module
if __name__ == "__main__":
    chat()
